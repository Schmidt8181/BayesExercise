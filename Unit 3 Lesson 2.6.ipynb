{
 "cells": [
  {
   "cell_type": "markdown",
   "metadata": {},
   "source": [
    "\"A diagnostic test has a 98% probability of giving a positive result when applied to a person suffering from Thripshaw's Disease, and 10% probability of giving a (false) positive when applied to a non-sufferer. It is estimated that 0.5 % of the population are sufferers. Suppose that the test is now administered to a person whose disease status is unknown. Calculate the probability that the test will:\n",
    "\n",
    "-Be positive\n",
    "\n",
    "-Correctly diagnose a sufferer of Thripshaw's\n",
    "\n",
    "-Correctly identify a non-sufferer of Thripshaw's\n",
    "\n",
    "-Misclassify the person\"\n",
    "\n",
    "Be positive - 9.8%, by multiplying the probabilities of a positive and false positive together\n",
    "Correctly identify a sufferer of Thripshaw's - 98%\n",
    "Correctly identify a non-sufferer of Thripshaw's - 90%\n",
    "Misclassify the person - 10%"
   ]
  },
  {
   "cell_type": "code",
   "execution_count": 1,
   "metadata": {},
   "outputs": [
    {
     "ename": "SyntaxError",
     "evalue": "can't assign to function call (<ipython-input-1-0e34a5b72866>, line 7)",
     "output_type": "error",
     "traceback": [
      "\u001b[0;36m  File \u001b[0;32m\"<ipython-input-1-0e34a5b72866>\"\u001b[0;36m, line \u001b[0;32m7\u001b[0m\n\u001b[0;31m    P(A | B) = P(B | A) * P(A) / P(B)\u001b[0m\n\u001b[0m                                     ^\u001b[0m\n\u001b[0;31mSyntaxError\u001b[0m\u001b[0;31m:\u001b[0m can't assign to function call\n"
     ]
    }
   ],
   "source": [
    "import numpy as np\n",
    "import pandas as pd\n",
    "\n",
    "A = .5\n",
    "B = .98\n",
    "\n",
    "P(A | B) = P(B | A) * P(A) / P(B)"
   ]
  },
  {
   "cell_type": "code",
   "execution_count": null,
   "metadata": {
    "collapsed": true
   },
   "outputs": [],
   "source": []
  }
 ],
 "metadata": {
  "kernelspec": {
   "display_name": "Python 3",
   "language": "python",
   "name": "python3"
  },
  "language_info": {
   "codemirror_mode": {
    "name": "ipython",
    "version": 3
   },
   "file_extension": ".py",
   "mimetype": "text/x-python",
   "name": "python",
   "nbconvert_exporter": "python",
   "pygments_lexer": "ipython3",
   "version": "3.6.1"
  }
 },
 "nbformat": 4,
 "nbformat_minor": 2
}
